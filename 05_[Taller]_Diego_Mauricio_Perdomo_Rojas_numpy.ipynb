{
  "cells": [
    {
      "cell_type": "markdown",
      "metadata": {
        "id": "qz-ziQdTlM6I"
      },
      "source": [
        "<a href=\"https://colab.research.google.com/github/acubillosunal/UBM-MACHINE-LEARNING-1/blob/main/05-%5BTaller%5D-numpy.ipynb#scrollTo=bm0ko4ipL_Ks\" target=\"_parent\"><img src=\"https://colab.research.google.com/assets/colab-badge.svg\" alt=\"Open In Colab\"/></a>\n",
        "\n",
        "\n",
        "**Recuerda que una vez abierto, Da clic en \"Copiar en Drive\", de lo contrario no podras alamancenar tu progreso**\n",
        "\n",
        "Nota: no olvide ir ejecutando las celdas de código de arriba hacia abajo para que no tenga errores de importación de librerías o por falta de definición de variables."
      ]
    },
    {
      "cell_type": "markdown",
      "metadata": {
        "id": "7hOX_bujlM6K"
      },
      "source": [
        "# **Taller Numpy**\n",
        "\n"
      ]
    },
    {
      "cell_type": "markdown",
      "metadata": {
        "id": "vaYDHdtYlM6K"
      },
      "source": [
        "1) Importar la libreria numpy y ver la versión que se está usando"
      ]
    },
    {
      "cell_type": "code",
      "execution_count": 2,
      "metadata": {
        "colab": {
          "base_uri": "https://localhost:8080/"
        },
        "id": "ThaWvKw9lM6K",
        "outputId": "e3866f2f-00ed-4adb-9229-c216eda563c8"
      },
      "outputs": [
        {
          "output_type": "stream",
          "name": "stdout",
          "text": [
            "Versión de NumPy: 1.23.5\n"
          ]
        }
      ],
      "source": [
        "import numpy as np\n",
        "print(\"Versión de NumPy:\", np.__version__)"
      ]
    },
    {
      "cell_type": "markdown",
      "metadata": {
        "id": "MmUwsAmUlM6K"
      },
      "source": [
        "2) Crear un arreglo de tamaño 1D desde 10 hasta 30"
      ]
    },
    {
      "cell_type": "code",
      "execution_count": 17,
      "metadata": {
        "colab": {
          "base_uri": "https://localhost:8080/"
        },
        "id": "CXiMxdQXlM6L",
        "outputId": "350139c8-5cd3-4436-9e2f-b925be560dbd"
      },
      "outputs": [
        {
          "output_type": "stream",
          "name": "stdout",
          "text": [
            "[10, 11, 12, 13, 14, 15, 16, 17, 18, 19, 20, 21, 22, 23, 24, 25, 26, 27, 28, 29, 30]\n",
            "[10 11 12 13 14 15 16 17 18 19 20 21 22 23 24 25 26 27 28 29 30]\n"
          ]
        }
      ],
      "source": [
        "#Primera Opción\n",
        "array = []\n",
        "for i in range (10,31):\n",
        "  array.append(i)\n",
        "print(array)\n",
        "\n",
        "#Segunda Opcion\n",
        "array0 = np.arange(10, 31)\n",
        "print(array0)"
      ]
    },
    {
      "cell_type": "markdown",
      "metadata": {
        "id": "vGgTEpHMlM6L"
      },
      "source": [
        "3) Crear un arreglo booleano con valor True de tamaño 4x4"
      ]
    },
    {
      "cell_type": "code",
      "execution_count": 6,
      "metadata": {
        "colab": {
          "base_uri": "https://localhost:8080/"
        },
        "id": "KUxxnJBVlM6L",
        "outputId": "2d03ce08-88c0-4521-c102-a52590e8218c"
      },
      "outputs": [
        {
          "output_type": "stream",
          "name": "stdout",
          "text": [
            "[[ True  True  True  True]\n",
            " [ True  True  True  True]\n",
            " [ True  True  True  True]\n",
            " [ True  True  True  True]]\n"
          ]
        }
      ],
      "source": [
        "booleano = np.full((4, 4), True, dtype=bool)\n",
        "print(booleano)"
      ]
    },
    {
      "cell_type": "markdown",
      "metadata": {
        "id": "5JGxCx_mlM6L"
      },
      "source": [
        "4) Generar un arreglo desde el 10 hasta el 30, extraer los elementos pares del arreglo generado."
      ]
    },
    {
      "cell_type": "code",
      "execution_count": 7,
      "metadata": {
        "colab": {
          "base_uri": "https://localhost:8080/"
        },
        "id": "8725KVPDlM6L",
        "outputId": "667c71eb-7c3b-4e28-9dff-e5f8f8fd873c"
      },
      "outputs": [
        {
          "output_type": "stream",
          "name": "stdout",
          "text": [
            "[10 12 14 16 18 20 22 24 26 28 30]\n"
          ]
        }
      ],
      "source": [
        "array1 = np.arange(10, 31)\n",
        "pares = array1[array1 % 2 == 0]\n",
        "print(pares)"
      ]
    },
    {
      "cell_type": "markdown",
      "metadata": {
        "id": "ZywVunbClM6L"
      },
      "source": [
        "5) Reemplazar todos los números pares por -1 de una arreglo desde 10 hasta 30 sin que afecte los demás elementos del arreglo utilizando bucles y condicionales."
      ]
    },
    {
      "cell_type": "code",
      "execution_count": 8,
      "metadata": {
        "colab": {
          "base_uri": "https://localhost:8080/"
        },
        "id": "rNqwSibMlM6L",
        "outputId": "612ad227-53ff-48f4-f8da-65456c40c283"
      },
      "outputs": [
        {
          "output_type": "stream",
          "name": "stdout",
          "text": [
            "[-1 11 -1 13 -1 15 -1 17 -1 19 -1 21 -1 23 -1 25 -1 27 -1 29 -1]\n"
          ]
        }
      ],
      "source": [
        "array2 = np.arange(10, 31)\n",
        "cont = 0\n",
        "for j in array2:\n",
        "  if(j%2 == 0):\n",
        "    array2[cont] = -1\n",
        "  cont+=1\n",
        "print(array2)"
      ]
    },
    {
      "cell_type": "markdown",
      "metadata": {
        "id": "i-P0LRUflM6L"
      },
      "source": [
        "6) Reemplazar todos los números pares por -1 de una arreglo desde 10 hasta 30 sin que afecte los demás elementos del arreglo utilizando una función de numpy."
      ]
    },
    {
      "cell_type": "code",
      "execution_count": 9,
      "metadata": {
        "colab": {
          "base_uri": "https://localhost:8080/"
        },
        "id": "TdTOpqFelM6M",
        "outputId": "772fd40a-7763-4f1e-e1b8-b4f9da928d80"
      },
      "outputs": [
        {
          "output_type": "stream",
          "name": "stdout",
          "text": [
            "[-1 11 -1 13 -1 15 -1 17 -1 19 -1 21 -1 23 -1 25 -1 27 -1 29 -1]\n"
          ]
        }
      ],
      "source": [
        "array3 = np.arange(10, 31)\n",
        "mod = np.where(array3 % 2 == 0, -1, array3)\n",
        "print(mod)"
      ]
    },
    {
      "cell_type": "markdown",
      "metadata": {
        "id": "w5KGCogalM6M"
      },
      "source": [
        "7) Reemplazar todos los números pares por -1 y por 0 los impares de una arreglo desde 10 hasta 30 sin que afecte los demás elementos del arreglo utilizando bucles y condicionales."
      ]
    },
    {
      "cell_type": "code",
      "execution_count": 10,
      "metadata": {
        "colab": {
          "base_uri": "https://localhost:8080/"
        },
        "id": "I0mYMLBvlM6M",
        "outputId": "feac4773-703e-457d-b2ab-99aa409f42af"
      },
      "outputs": [
        {
          "output_type": "stream",
          "name": "stdout",
          "text": [
            "[-1  0 -1  0 -1  0 -1  0 -1  0 -1  0 -1  0 -1  0 -1  0 -1  0 -1]\n"
          ]
        }
      ],
      "source": [
        "array4 = np.arange(10, 31)\n",
        "cont = 0\n",
        "for j in array4:\n",
        "  if(j%2 == 0):\n",
        "    array4[cont] = -1\n",
        "  else:\n",
        "    array4[cont] = 0\n",
        "  cont+=1\n",
        "print(array4)"
      ]
    },
    {
      "cell_type": "markdown",
      "metadata": {
        "id": "dGSepammlM6M"
      },
      "source": [
        "8) Reemplazar todos los números pares por -1 y los impares por 0 de una arreglo desde 10 hasta 30 sin que afecte los demás elementos del arreglo utilizando una función de numpy."
      ]
    },
    {
      "cell_type": "code",
      "source": [
        "array5 = np.arange(10, 31)\n",
        "mod1 = np.where(array5 % 2 == 0,-1, 0)\n",
        "print(mod1)"
      ],
      "metadata": {
        "colab": {
          "base_uri": "https://localhost:8080/"
        },
        "id": "hwk2IEVrnUF1",
        "outputId": "1633b96e-d469-42a8-ed98-a8bb2b30f3b4"
      },
      "execution_count": 13,
      "outputs": [
        {
          "output_type": "stream",
          "name": "stdout",
          "text": [
            "[-1  0 -1  0 -1  0 -1  0 -1  0 -1  0 -1  0 -1  0 -1  0 -1  0 -1]\n"
          ]
        }
      ]
    }
  ],
  "metadata": {
    "kernelspec": {
      "display_name": "base",
      "language": "python",
      "name": "python3"
    },
    "language_info": {
      "codemirror_mode": {
        "name": "ipython",
        "version": 3
      },
      "file_extension": ".py",
      "mimetype": "text/x-python",
      "name": "python",
      "nbconvert_exporter": "python",
      "pygments_lexer": "ipython3",
      "version": "3.9.12 (main, Apr  5 2022, 06:56:58) \n[GCC 7.5.0]"
    },
    "metadata": {
      "interpreter": {
        "hash": "48b2dac2427e5c4bd2b5479f4e612135ec3351219f6a8504495dceeac711d204"
      }
    },
    "orig_nbformat": 2,
    "vscode": {
      "interpreter": {
        "hash": "4a86262a84c89eb5e2f9fa7ccca1fd520c0f88913a624a47ee78e08ae14b068c"
      }
    },
    "colab": {
      "provenance": []
    }
  },
  "nbformat": 4,
  "nbformat_minor": 0
}